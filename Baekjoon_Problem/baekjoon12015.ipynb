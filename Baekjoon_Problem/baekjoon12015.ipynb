{
 "cells": [
  {
   "cell_type": "code",
   "execution_count": 1,
   "source": [
    "import sys\r\n",
    "n=int(input())\r\n",
    "\r\n",
    "result_stack = []\r\n",
    "for now_num in list(map(int, input().split())):\r\n",
    "    if not result_stack:\r\n",
    "        result_stack.append(now_num)\r\n",
    "    if result_stack[-1]<now_num:\r\n",
    "        result_stack.append(now_num)\r\n",
    "\r\n",
    "print(len(result_stack))\r\n",
    "        \r\n"
   ],
   "outputs": [
    {
     "output_type": "stream",
     "name": "stdout",
     "text": [
      "4\n"
     ]
    }
   ],
   "metadata": {}
  }
 ],
 "metadata": {
  "orig_nbformat": 4,
  "language_info": {
   "name": "python",
   "version": "3.8.6",
   "mimetype": "text/x-python",
   "codemirror_mode": {
    "name": "ipython",
    "version": 3
   },
   "pygments_lexer": "ipython3",
   "nbconvert_exporter": "python",
   "file_extension": ".py"
  },
  "kernelspec": {
   "name": "python3",
   "display_name": "Python 3.8.6 64-bit"
  },
  "interpreter": {
   "hash": "8667269ee70ec05b0551eda05c1fdb88a53df76dcf86baa2923daf89ae5dbe9c"
  }
 },
 "nbformat": 4,
 "nbformat_minor": 2
}